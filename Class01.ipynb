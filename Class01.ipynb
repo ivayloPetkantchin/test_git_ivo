{
 "cells": [
  {
   "cell_type": "markdown",
   "metadata": {},
   "source": [
    "# But: Créer une classe python\n",
    "Voir les méthodes, attributs et autres fondamentaux"
   ]
  },
  {
   "cell_type": "markdown",
   "metadata": {},
   "source": [
    "## 1-Classe Desription Objet"
   ]
  },
  {
   "cell_type": "code",
   "execution_count": 7,
   "metadata": {
    "collapsed": false
   },
   "outputs": [
    {
     "name": "stdout",
     "output_type": "stream",
     "text": [
      "Hello\n"
     ]
    }
   ],
   "source": [
    "# Def de la Classe\n",
    "class DescriptionObjet:\n",
    "    def methode01(self):\n",
    "        print \"Hello\"\n",
    "# Instanciation d'un objet\n",
    "objet = DescriptionObjet()\n",
    "objet.methode01()"
   ]
  },
  {
   "cell_type": "code",
   "execution_count": 8,
   "metadata": {
    "collapsed": true
   },
   "outputs": [],
   "source": [
    "# ajouter une variable à un objet\n",
    "objet.var01 = \"Une variable\""
   ]
  },
  {
   "cell_type": "code",
   "execution_count": 9,
   "metadata": {
    "collapsed": false
   },
   "outputs": [
    {
     "data": {
      "text/plain": [
       "'Une variable'"
      ]
     },
     "execution_count": 9,
     "metadata": {},
     "output_type": "execute_result"
    }
   ],
   "source": [
    "objet.var01"
   ]
  },
  {
   "cell_type": "markdown",
   "metadata": {},
   "source": [
    "## 2-classe Stack overfolw"
   ]
  },
  {
   "cell_type": "code",
   "execution_count": 12,
   "metadata": {
    "collapsed": false
   },
   "outputs": [
    {
     "name": "stdout",
     "output_type": "stream",
     "text": [
      "attribut accessible par tous\n",
      "attribut accessible que par objet\n",
      "\n",
      "\n"
     ]
    },
    {
     "ename": "AttributeError",
     "evalue": "class attribClassetest has no attribute 'attribut_objet'",
     "output_type": "error",
     "traceback": [
      "\u001b[1;31m---------------------------------------------------------------------------\u001b[0m",
      "\u001b[1;31mAttributeError\u001b[0m                            Traceback (most recent call last)",
      "\u001b[1;32m<ipython-input-12-0cf51cb0e86e>\u001b[0m in \u001b[0;36m<module>\u001b[1;34m()\u001b[0m\n\u001b[0;32m      8\u001b[0m \u001b[0mobjet_test\u001b[0m \u001b[1;33m=\u001b[0m \u001b[0mattribClassetest\u001b[0m\u001b[1;33m(\u001b[0m\u001b[1;33m)\u001b[0m\u001b[1;33m\u001b[0m\u001b[0m\n\u001b[0;32m      9\u001b[0m \u001b[1;32mprint\u001b[0m \u001b[0mobjet_test\u001b[0m\u001b[1;33m.\u001b[0m\u001b[0mattribut_objet\u001b[0m\u001b[1;33m\u001b[0m\u001b[0m\n\u001b[1;32m---> 10\u001b[1;33m \u001b[1;32mprint\u001b[0m \u001b[1;34m'\\n'\u001b[0m\u001b[1;33m;\u001b[0m\u001b[0mattribClassetest\u001b[0m\u001b[1;33m.\u001b[0m\u001b[0mattribut_objet\u001b[0m\u001b[1;33m\u001b[0m\u001b[0m\n\u001b[0m",
      "\u001b[1;31mAttributeError\u001b[0m: class attribClassetest has no attribute 'attribut_objet'"
     ]
    }
   ],
   "source": [
    "# Creation Classe pour test differents type d'attributs\n",
    "class attribClassetest:\n",
    "    attribut_classe = \"attribut accessible par tous\"\n",
    "    def __init__(self):\n",
    "        self.attribut_objet = \"attribut accessible que par objet\"\n",
    "        \n",
    "# Check avec instance\n",
    "print attribClassetest.attribut_classe\n",
    "objet_test = attribClassetest()\n",
    "print objet_test.attribut_objet\n",
    "print '\\n';attribClassetest.attribut_objet"
   ]
  },
  {
   "cell_type": "code",
   "execution_count": 13,
   "metadata": {
    "collapsed": true
   },
   "outputs": [],
   "source": [
    "# -*- coding: utf-8 -*-\n",
    "import csv\n",
    "import json\n",
    "import urllib2\n",
    " \n",
    "from datetime import datetime\n",
    "from io import StringIO\n",
    " \n",
    " \n",
    "class Question:\n",
    " \n",
    "    # ces constantes sont maintenant des attributs de classe\n",
    "    DATA_SOURCE_URL = \"http://data.stackexchange.com/StackOverflow/csv/109782\"\n",
    "    QUESTION_URL = \"http://stackoverflow.com/questions/{id}\"\n",
    " \n",
    "    def __init__(self, id, creation_date):\n",
    " \n",
    "        # self est le fameux \"object en cours\", on lui attache les attributs\n",
    "        self.id = id\n",
    "        self.creation_date = creation_date\n",
    " \n",
    "    def get_creation_date(self):\n",
    "        return datetime.strptime(self.creation_date, '%Y-%m-%d %H:%M:%S')\n",
    " \n",
    "    def get_url(self):\n",
    "        return self.QUESTION_URL.format(id=self.id)\n",
    " \n",
    "    # la fonction qui fabrique tous les objets Question est maintenant\n",
    "    # à l'intérieur de la class Question, en tant que méthode de classe\n",
    "    @classmethod\n",
    "    def query(cls, url=DATA_SOURCE_URL):\n",
    " \n",
    "            csv_data = StringIO(urllib2.urlopen(url).read(100000).decode('utf8'))\n",
    " \n",
    "            for question in csv.DictReader(csv_data):\n",
    " \n",
    "                question['Post Link'] = json.loads(question['Post Link'])\n",
    " \n",
    "                yield Question(creation_date=question['CreationDate'],\n",
    "                               id=question['Post Link'])"
   ]
  },
  {
   "cell_type": "code",
   "execution_count": 17,
   "metadata": {
    "collapsed": false
   },
   "outputs": [
    {
     "name": "stdout",
     "output_type": "stream",
     "text": [
      "http://stackoverflow.com/questions/38288433\n",
      "2016-07-10 03:57:50\n"
     ]
    }
   ],
   "source": [
    "# for ques in Question.query():\n",
    "#     print ques.creation_date, ques.id\n",
    "question = Question(id=\"38288433\",creation_date=\"2016-07-10 03:57:50\")\n",
    "print question.get_url()\n",
    "print question.get_creation_date()"
   ]
  },
  {
   "cell_type": "code",
   "execution_count": 19,
   "metadata": {
    "collapsed": false
   },
   "outputs": [
    {
     "name": "stdout",
     "output_type": "stream",
     "text": [
      "2016-07-10 03:57:50 : http://stackoverflow.com/questions/38288433\n",
      "2016-07-10 03:54:48 : http://stackoverflow.com/questions/38288412\n",
      "2016-07-10 03:45:00 : http://stackoverflow.com/questions/38288372\n",
      "2016-07-10 03:10:01 : http://stackoverflow.com/questions/38288214\n",
      "2016-07-10 03:07:49 : http://stackoverflow.com/questions/38288204\n",
      "2016-07-10 03:07:21 : http://stackoverflow.com/questions/38288203\n",
      "2016-07-10 02:59:52 : http://stackoverflow.com/questions/38288179\n",
      "2016-07-10 02:48:36 : http://stackoverflow.com/questions/38288133\n",
      "2016-07-10 02:43:50 : http://stackoverflow.com/questions/38288110\n",
      "2016-07-10 02:27:51 : http://stackoverflow.com/questions/38288041\n",
      "2016-07-10 02:26:33 : http://stackoverflow.com/questions/38288034\n",
      "2016-07-10 02:23:44 : http://stackoverflow.com/questions/38288029\n",
      "2016-07-10 02:22:55 : http://stackoverflow.com/questions/38288026\n",
      "2016-07-10 02:10:41 : http://stackoverflow.com/questions/38287971\n",
      "2016-07-10 02:03:47 : http://stackoverflow.com/questions/38287945\n",
      "2016-07-10 01:59:39 : http://stackoverflow.com/questions/38287921\n",
      "2016-07-10 01:56:01 : http://stackoverflow.com/questions/38287904\n",
      "2016-07-10 01:39:11 : http://stackoverflow.com/questions/38287853\n",
      "2016-07-10 01:37:01 : http://stackoverflow.com/questions/38287843\n",
      "2016-07-10 01:34:20 : http://stackoverflow.com/questions/38287827\n",
      "2016-07-10 01:33:07 : http://stackoverflow.com/questions/38287824\n",
      "2016-07-10 01:26:21 : http://stackoverflow.com/questions/38287797\n",
      "2016-07-10 01:22:03 : http://stackoverflow.com/questions/38287777\n",
      "2016-07-10 01:12:12 : http://stackoverflow.com/questions/38287716\n",
      "2016-07-10 01:08:21 : http://stackoverflow.com/questions/38287696\n",
      "2016-07-10 00:57:47 : http://stackoverflow.com/questions/38287646\n",
      "2016-07-10 00:52:22 : http://stackoverflow.com/questions/38287621\n",
      "2016-07-10 00:52:08 : http://stackoverflow.com/questions/38287619\n",
      "2016-07-10 00:45:29 : http://stackoverflow.com/questions/38287589\n",
      "2016-07-10 00:39:02 : http://stackoverflow.com/questions/38287559\n",
      "2016-07-10 00:33:45 : http://stackoverflow.com/questions/38287528\n",
      "2016-07-10 00:24:53 : http://stackoverflow.com/questions/38287491\n",
      "2016-07-10 00:09:07 : http://stackoverflow.com/questions/38287420\n",
      "2016-07-10 00:06:22 : http://stackoverflow.com/questions/38287400\n",
      "2016-07-10 00:04:59 : http://stackoverflow.com/questions/38287392\n",
      "2016-07-09 23:53:40 : http://stackoverflow.com/questions/38287318\n",
      "2016-07-09 23:48:57 : http://stackoverflow.com/questions/38287301\n",
      "2016-07-09 23:37:06 : http://stackoverflow.com/questions/38287237\n",
      "2016-07-09 23:34:26 : http://stackoverflow.com/questions/38287221\n",
      "2016-07-09 23:30:07 : http://stackoverflow.com/questions/38287201\n",
      "2016-07-09 23:19:29 : http://stackoverflow.com/questions/38287154\n",
      "2016-07-09 23:03:49 : http://stackoverflow.com/questions/38287077\n",
      "2016-07-09 23:02:37 : http://stackoverflow.com/questions/38287066\n",
      "2016-07-09 22:43:53 : http://stackoverflow.com/questions/38286968\n",
      "2016-07-09 22:40:57 : http://stackoverflow.com/questions/38286953\n",
      "2016-07-09 22:31:29 : http://stackoverflow.com/questions/38286897\n",
      "2016-07-09 22:27:19 : http://stackoverflow.com/questions/38286871\n",
      "2016-07-09 22:21:50 : http://stackoverflow.com/questions/38286843\n",
      "2016-07-09 22:21:18 : http://stackoverflow.com/questions/38286837\n",
      "2016-07-09 22:19:19 : http://stackoverflow.com/questions/38286822\n",
      "2016-07-09 22:18:47 : http://stackoverflow.com/questions/38286816\n",
      "2016-07-09 22:11:37 : http://stackoverflow.com/questions/38286782\n",
      "2016-07-09 22:10:50 : http://stackoverflow.com/questions/38286779\n",
      "2016-07-09 22:10:26 : http://stackoverflow.com/questions/38286776\n",
      "2016-07-09 22:08:45 : http://stackoverflow.com/questions/38286765\n",
      "2016-07-09 22:07:32 : http://stackoverflow.com/questions/38286757\n",
      "2016-07-09 22:05:01 : http://stackoverflow.com/questions/38286740\n",
      "2016-07-09 22:00:48 : http://stackoverflow.com/questions/38286718\n",
      "2016-07-09 21:56:08 : http://stackoverflow.com/questions/38286700\n",
      "2016-07-09 21:46:56 : http://stackoverflow.com/questions/38286641\n",
      "2016-07-09 21:41:06 : http://stackoverflow.com/questions/38286602\n",
      "2016-07-09 21:40:38 : http://stackoverflow.com/questions/38286598\n",
      "2016-07-09 21:36:13 : http://stackoverflow.com/questions/38286563\n",
      "2016-07-09 21:34:53 : http://stackoverflow.com/questions/38286554\n",
      "2016-07-09 21:28:35 : http://stackoverflow.com/questions/38286513\n",
      "2016-07-09 21:08:08 : http://stackoverflow.com/questions/38286371\n",
      "2016-07-09 20:54:36 : http://stackoverflow.com/questions/38286267\n",
      "2016-07-09 20:48:15 : http://stackoverflow.com/questions/38286223\n",
      "2016-07-09 20:39:39 : http://stackoverflow.com/questions/38286166\n",
      "2016-07-09 20:36:24 : http://stackoverflow.com/questions/38286139\n",
      "2016-07-09 20:30:48 : http://stackoverflow.com/questions/38286098\n",
      "2016-07-09 20:27:02 : http://stackoverflow.com/questions/38286059\n",
      "2016-07-09 20:25:20 : http://stackoverflow.com/questions/38286043\n",
      "2016-07-09 20:19:47 : http://stackoverflow.com/questions/38286001\n",
      "2016-07-09 20:18:07 : http://stackoverflow.com/questions/38285989\n",
      "2016-07-09 20:05:33 : http://stackoverflow.com/questions/38285898\n",
      "2016-07-09 20:03:03 : http://stackoverflow.com/questions/38285881\n",
      "2016-07-09 19:59:01 : http://stackoverflow.com/questions/38285846\n",
      "2016-07-09 19:54:35 : http://stackoverflow.com/questions/38285811\n",
      "2016-07-09 19:54:11 : http://stackoverflow.com/questions/38285805\n",
      "2016-07-09 19:51:09 : http://stackoverflow.com/questions/38285774\n",
      "2016-07-09 19:50:30 : http://stackoverflow.com/questions/38285766\n",
      "2016-07-09 19:47:02 : http://stackoverflow.com/questions/38285737\n",
      "2016-07-09 19:46:13 : http://stackoverflow.com/questions/38285729\n",
      "2016-07-09 19:41:19 : http://stackoverflow.com/questions/38285679\n",
      "2016-07-09 19:38:30 : http://stackoverflow.com/questions/38285654\n",
      "2016-07-09 19:29:39 : http://stackoverflow.com/questions/38285572\n",
      "2016-07-09 19:29:11 : http://stackoverflow.com/questions/38285569\n",
      "2016-07-09 19:27:31 : http://stackoverflow.com/questions/38285551\n",
      "2016-07-09 19:23:55 : http://stackoverflow.com/questions/38285527\n",
      "2016-07-09 19:19:41 : http://stackoverflow.com/questions/38285480\n",
      "2016-07-09 19:17:29 : http://stackoverflow.com/questions/38285458\n",
      "2016-07-09 19:11:36 : http://stackoverflow.com/questions/38285410\n",
      "2016-07-09 19:06:53 : http://stackoverflow.com/questions/38285364\n",
      "2016-07-09 19:05:13 : http://stackoverflow.com/questions/38285345\n",
      "2016-07-09 19:02:53 : http://stackoverflow.com/questions/38285323\n",
      "2016-07-09 18:52:09 : http://stackoverflow.com/questions/38285208\n",
      "2016-07-09 18:51:18 : http://stackoverflow.com/questions/38285201\n",
      "2016-07-09 18:50:19 : http://stackoverflow.com/questions/38285195\n",
      "2016-07-09 18:50:07 : http://stackoverflow.com/questions/38285190\n"
     ]
    }
   ],
   "source": [
    "for question in Question.query():\n",
    "    # affiche le titre et l'url\n",
    "    print \"{creation_date} : {url}\".format(creation_date=question.get_creation_date(), \n",
    "                                           url=question.get_url())"
   ]
  },
  {
   "cell_type": "code",
   "execution_count": null,
   "metadata": {
    "collapsed": true
   },
   "outputs": [],
   "source": []
  }
 ],
 "metadata": {
  "kernelspec": {
   "display_name": "Python 2",
   "language": "python",
   "name": "python2"
  },
  "language_info": {
   "codemirror_mode": {
    "name": "ipython",
    "version": 2
   },
   "file_extension": ".py",
   "mimetype": "text/x-python",
   "name": "python",
   "nbconvert_exporter": "python",
   "pygments_lexer": "ipython2",
   "version": "2.7.11"
  }
 },
 "nbformat": 4,
 "nbformat_minor": 0
}
